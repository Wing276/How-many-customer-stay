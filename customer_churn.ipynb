{
 "cells": [
  {
   "cell_type": "markdown",
   "metadata": {},
   "source": [
    "# How-Many-Customers-Stay\n",
    "Here, I am going to explore the power of gradient boosting for this binary classification problem."
   ]
  },
  {
   "cell_type": "code",
   "execution_count": 1,
   "metadata": {},
   "outputs": [],
   "source": [
    "import pandas as pd\n",
    "import numpy as np"
   ]
  },
  {
   "cell_type": "markdown",
   "metadata": {},
   "source": [
    "## Import data"
   ]
  },
  {
   "cell_type": "code",
   "execution_count": 2,
   "metadata": {},
   "outputs": [],
   "source": [
    "train_df = pd.read_csv('train.csv', index_col = 0)\n",
    "test_df = pd.read_csv('test.csv', index_col = 0)"
   ]
  },
  {
   "cell_type": "code",
   "execution_count": 3,
   "metadata": {},
   "outputs": [
    {
     "data": {
      "text/html": [
       "<div>\n",
       "<style scoped>\n",
       "    .dataframe tbody tr th:only-of-type {\n",
       "        vertical-align: middle;\n",
       "    }\n",
       "\n",
       "    .dataframe tbody tr th {\n",
       "        vertical-align: top;\n",
       "    }\n",
       "\n",
       "    .dataframe thead th {\n",
       "        text-align: right;\n",
       "    }\n",
       "</style>\n",
       "<table border=\"1\" class=\"dataframe\">\n",
       "  <thead>\n",
       "    <tr style=\"text-align: right;\">\n",
       "      <th></th>\n",
       "      <th>CreditScore</th>\n",
       "      <th>Geography</th>\n",
       "      <th>Gender</th>\n",
       "      <th>Age</th>\n",
       "      <th>Tenure</th>\n",
       "      <th>Balance</th>\n",
       "      <th>NumOfProducts</th>\n",
       "      <th>HasCrCard</th>\n",
       "      <th>IsActiveMember</th>\n",
       "      <th>EstimatedSalary</th>\n",
       "      <th>is_train</th>\n",
       "    </tr>\n",
       "    <tr>\n",
       "      <th>RowNumber</th>\n",
       "      <th></th>\n",
       "      <th></th>\n",
       "      <th></th>\n",
       "      <th></th>\n",
       "      <th></th>\n",
       "      <th></th>\n",
       "      <th></th>\n",
       "      <th></th>\n",
       "      <th></th>\n",
       "      <th></th>\n",
       "      <th></th>\n",
       "    </tr>\n",
       "  </thead>\n",
       "  <tbody>\n",
       "    <tr>\n",
       "      <th>7500</th>\n",
       "      <td>477</td>\n",
       "      <td>Germany</td>\n",
       "      <td>Male</td>\n",
       "      <td>34</td>\n",
       "      <td>8</td>\n",
       "      <td>139959.55</td>\n",
       "      <td>2</td>\n",
       "      <td>1</td>\n",
       "      <td>1</td>\n",
       "      <td>189875.83</td>\n",
       "      <td>0</td>\n",
       "    </tr>\n",
       "    <tr>\n",
       "      <th>7501</th>\n",
       "      <td>827</td>\n",
       "      <td>Spain</td>\n",
       "      <td>Female</td>\n",
       "      <td>35</td>\n",
       "      <td>0</td>\n",
       "      <td>0.00</td>\n",
       "      <td>2</td>\n",
       "      <td>0</td>\n",
       "      <td>1</td>\n",
       "      <td>184514.01</td>\n",
       "      <td>0</td>\n",
       "    </tr>\n",
       "    <tr>\n",
       "      <th>7502</th>\n",
       "      <td>726</td>\n",
       "      <td>France</td>\n",
       "      <td>Female</td>\n",
       "      <td>53</td>\n",
       "      <td>1</td>\n",
       "      <td>113537.73</td>\n",
       "      <td>1</td>\n",
       "      <td>0</td>\n",
       "      <td>1</td>\n",
       "      <td>28367.21</td>\n",
       "      <td>0</td>\n",
       "    </tr>\n",
       "    <tr>\n",
       "      <th>7503</th>\n",
       "      <td>600</td>\n",
       "      <td>France</td>\n",
       "      <td>Female</td>\n",
       "      <td>43</td>\n",
       "      <td>5</td>\n",
       "      <td>134022.06</td>\n",
       "      <td>1</td>\n",
       "      <td>1</td>\n",
       "      <td>0</td>\n",
       "      <td>194764.83</td>\n",
       "      <td>0</td>\n",
       "    </tr>\n",
       "    <tr>\n",
       "      <th>7504</th>\n",
       "      <td>624</td>\n",
       "      <td>France</td>\n",
       "      <td>Male</td>\n",
       "      <td>37</td>\n",
       "      <td>0</td>\n",
       "      <td>0.00</td>\n",
       "      <td>2</td>\n",
       "      <td>0</td>\n",
       "      <td>0</td>\n",
       "      <td>112104.55</td>\n",
       "      <td>0</td>\n",
       "    </tr>\n",
       "  </tbody>\n",
       "</table>\n",
       "</div>"
      ],
      "text/plain": [
       "           CreditScore Geography  Gender  Age  Tenure    Balance  \\\n",
       "RowNumber                                                          \n",
       "7500               477   Germany    Male   34       8  139959.55   \n",
       "7501               827     Spain  Female   35       0       0.00   \n",
       "7502               726    France  Female   53       1  113537.73   \n",
       "7503               600    France  Female   43       5  134022.06   \n",
       "7504               624    France    Male   37       0       0.00   \n",
       "\n",
       "           NumOfProducts  HasCrCard  IsActiveMember  EstimatedSalary  is_train  \n",
       "RowNumber                                                                       \n",
       "7500                   2          1               1        189875.83         0  \n",
       "7501                   2          0               1        184514.01         0  \n",
       "7502                   1          0               1         28367.21         0  \n",
       "7503                   1          1               0        194764.83         0  \n",
       "7504                   2          0               0        112104.55         0  "
      ]
     },
     "execution_count": 3,
     "metadata": {},
     "output_type": "execute_result"
    }
   ],
   "source": [
    "train_df = train_df.assign(is_train = 1)\n",
    "test_df = test_df.assign(is_train = 0)\n",
    "\n",
    "train_df = train_df.drop([\"CustomerId\",\"Surname\"],axis=1)\n",
    "test_df = test_df.drop([\"CustomerId\",\"Surname\"],axis=1)\n",
    "\n",
    "test_df.head()"
   ]
  },
  {
   "cell_type": "markdown",
   "metadata": {},
   "source": [
    "## Exploratory Data Analysis"
   ]
  },
  {
   "cell_type": "code",
   "execution_count": 4,
   "metadata": {},
   "outputs": [
    {
     "name": "stdout",
     "output_type": "stream",
     "text": [
      "<class 'pandas.core.frame.DataFrame'>\n",
      "Int64Index: 7500 entries, 0 to 7499\n",
      "Data columns (total 12 columns):\n",
      " #   Column           Non-Null Count  Dtype  \n",
      "---  ------           --------------  -----  \n",
      " 0   CreditScore      7500 non-null   int64  \n",
      " 1   Geography        7500 non-null   object \n",
      " 2   Gender           7500 non-null   object \n",
      " 3   Age              7500 non-null   int64  \n",
      " 4   Tenure           7500 non-null   int64  \n",
      " 5   Balance          7500 non-null   float64\n",
      " 6   NumOfProducts    7500 non-null   int64  \n",
      " 7   HasCrCard        7500 non-null   int64  \n",
      " 8   IsActiveMember   7500 non-null   int64  \n",
      " 9   EstimatedSalary  7500 non-null   float64\n",
      " 10  Exited           7500 non-null   int64  \n",
      " 11  is_train         7500 non-null   int64  \n",
      "dtypes: float64(2), int64(8), object(2)\n",
      "memory usage: 761.7+ KB\n"
     ]
    }
   ],
   "source": [
    "train_df.info()"
   ]
  },
  {
   "cell_type": "markdown",
   "metadata": {},
   "source": [
    "We take a quick look at the features in the dataset and make sure there are no null values."
   ]
  },
  {
   "cell_type": "code",
   "execution_count": 5,
   "metadata": {},
   "outputs": [
    {
     "data": {
      "text/html": [
       "<div>\n",
       "<style scoped>\n",
       "    .dataframe tbody tr th:only-of-type {\n",
       "        vertical-align: middle;\n",
       "    }\n",
       "\n",
       "    .dataframe tbody tr th {\n",
       "        vertical-align: top;\n",
       "    }\n",
       "\n",
       "    .dataframe thead th {\n",
       "        text-align: right;\n",
       "    }\n",
       "</style>\n",
       "<table border=\"1\" class=\"dataframe\">\n",
       "  <thead>\n",
       "    <tr style=\"text-align: right;\">\n",
       "      <th></th>\n",
       "      <th>CreditScore</th>\n",
       "      <th>Age</th>\n",
       "      <th>Tenure</th>\n",
       "      <th>Balance</th>\n",
       "      <th>NumOfProducts</th>\n",
       "      <th>HasCrCard</th>\n",
       "      <th>IsActiveMember</th>\n",
       "      <th>EstimatedSalary</th>\n",
       "      <th>Exited</th>\n",
       "      <th>is_train</th>\n",
       "    </tr>\n",
       "  </thead>\n",
       "  <tbody>\n",
       "    <tr>\n",
       "      <th>count</th>\n",
       "      <td>7500.000000</td>\n",
       "      <td>7500.000000</td>\n",
       "      <td>7500.000000</td>\n",
       "      <td>7500.000000</td>\n",
       "      <td>7500.00000</td>\n",
       "      <td>7500.000000</td>\n",
       "      <td>7500.000000</td>\n",
       "      <td>7500.000000</td>\n",
       "      <td>7500.000000</td>\n",
       "      <td>7500.0</td>\n",
       "    </tr>\n",
       "    <tr>\n",
       "      <th>mean</th>\n",
       "      <td>650.378667</td>\n",
       "      <td>38.959333</td>\n",
       "      <td>5.026000</td>\n",
       "      <td>76968.155137</td>\n",
       "      <td>1.53040</td>\n",
       "      <td>0.707600</td>\n",
       "      <td>0.512667</td>\n",
       "      <td>100178.652747</td>\n",
       "      <td>0.207867</td>\n",
       "      <td>1.0</td>\n",
       "    </tr>\n",
       "    <tr>\n",
       "      <th>std</th>\n",
       "      <td>96.556472</td>\n",
       "      <td>10.526458</td>\n",
       "      <td>2.890266</td>\n",
       "      <td>62467.964419</td>\n",
       "      <td>0.58131</td>\n",
       "      <td>0.454895</td>\n",
       "      <td>0.499873</td>\n",
       "      <td>57595.705469</td>\n",
       "      <td>0.405808</td>\n",
       "      <td>0.0</td>\n",
       "    </tr>\n",
       "    <tr>\n",
       "      <th>min</th>\n",
       "      <td>350.000000</td>\n",
       "      <td>18.000000</td>\n",
       "      <td>0.000000</td>\n",
       "      <td>0.000000</td>\n",
       "      <td>1.00000</td>\n",
       "      <td>0.000000</td>\n",
       "      <td>0.000000</td>\n",
       "      <td>91.750000</td>\n",
       "      <td>0.000000</td>\n",
       "      <td>1.0</td>\n",
       "    </tr>\n",
       "    <tr>\n",
       "      <th>25%</th>\n",
       "      <td>584.000000</td>\n",
       "      <td>32.000000</td>\n",
       "      <td>3.000000</td>\n",
       "      <td>0.000000</td>\n",
       "      <td>1.00000</td>\n",
       "      <td>0.000000</td>\n",
       "      <td>0.000000</td>\n",
       "      <td>51193.135000</td>\n",
       "      <td>0.000000</td>\n",
       "      <td>1.0</td>\n",
       "    </tr>\n",
       "    <tr>\n",
       "      <th>50%</th>\n",
       "      <td>652.000000</td>\n",
       "      <td>37.000000</td>\n",
       "      <td>5.000000</td>\n",
       "      <td>98196.235000</td>\n",
       "      <td>1.00000</td>\n",
       "      <td>1.000000</td>\n",
       "      <td>1.000000</td>\n",
       "      <td>100114.385000</td>\n",
       "      <td>0.000000</td>\n",
       "      <td>1.0</td>\n",
       "    </tr>\n",
       "    <tr>\n",
       "      <th>75%</th>\n",
       "      <td>717.000000</td>\n",
       "      <td>44.000000</td>\n",
       "      <td>7.000000</td>\n",
       "      <td>128208.912500</td>\n",
       "      <td>2.00000</td>\n",
       "      <td>1.000000</td>\n",
       "      <td>1.000000</td>\n",
       "      <td>149595.112500</td>\n",
       "      <td>0.000000</td>\n",
       "      <td>1.0</td>\n",
       "    </tr>\n",
       "    <tr>\n",
       "      <th>max</th>\n",
       "      <td>850.000000</td>\n",
       "      <td>92.000000</td>\n",
       "      <td>10.000000</td>\n",
       "      <td>238387.560000</td>\n",
       "      <td>4.00000</td>\n",
       "      <td>1.000000</td>\n",
       "      <td>1.000000</td>\n",
       "      <td>199992.480000</td>\n",
       "      <td>1.000000</td>\n",
       "      <td>1.0</td>\n",
       "    </tr>\n",
       "  </tbody>\n",
       "</table>\n",
       "</div>"
      ],
      "text/plain": [
       "       CreditScore          Age       Tenure        Balance  NumOfProducts  \\\n",
       "count  7500.000000  7500.000000  7500.000000    7500.000000     7500.00000   \n",
       "mean    650.378667    38.959333     5.026000   76968.155137        1.53040   \n",
       "std      96.556472    10.526458     2.890266   62467.964419        0.58131   \n",
       "min     350.000000    18.000000     0.000000       0.000000        1.00000   \n",
       "25%     584.000000    32.000000     3.000000       0.000000        1.00000   \n",
       "50%     652.000000    37.000000     5.000000   98196.235000        1.00000   \n",
       "75%     717.000000    44.000000     7.000000  128208.912500        2.00000   \n",
       "max     850.000000    92.000000    10.000000  238387.560000        4.00000   \n",
       "\n",
       "         HasCrCard  IsActiveMember  EstimatedSalary       Exited  is_train  \n",
       "count  7500.000000     7500.000000      7500.000000  7500.000000    7500.0  \n",
       "mean      0.707600        0.512667    100178.652747     0.207867       1.0  \n",
       "std       0.454895        0.499873     57595.705469     0.405808       0.0  \n",
       "min       0.000000        0.000000        91.750000     0.000000       1.0  \n",
       "25%       0.000000        0.000000     51193.135000     0.000000       1.0  \n",
       "50%       1.000000        1.000000    100114.385000     0.000000       1.0  \n",
       "75%       1.000000        1.000000    149595.112500     0.000000       1.0  \n",
       "max       1.000000        1.000000    199992.480000     1.000000       1.0  "
      ]
     },
     "execution_count": 5,
     "metadata": {},
     "output_type": "execute_result"
    }
   ],
   "source": [
    "train_df.describe()"
   ]
  },
  {
   "cell_type": "code",
   "execution_count": 7,
   "metadata": {},
   "outputs": [
    {
     "data": {
      "text/html": [
       "<div>\n",
       "<style scoped>\n",
       "    .dataframe tbody tr th:only-of-type {\n",
       "        vertical-align: middle;\n",
       "    }\n",
       "\n",
       "    .dataframe tbody tr th {\n",
       "        vertical-align: top;\n",
       "    }\n",
       "\n",
       "    .dataframe thead th {\n",
       "        text-align: right;\n",
       "    }\n",
       "</style>\n",
       "<table border=\"1\" class=\"dataframe\">\n",
       "  <thead>\n",
       "    <tr style=\"text-align: right;\">\n",
       "      <th></th>\n",
       "      <th>Geography</th>\n",
       "      <th>Gender</th>\n",
       "    </tr>\n",
       "  </thead>\n",
       "  <tbody>\n",
       "    <tr>\n",
       "      <th>count</th>\n",
       "      <td>7500</td>\n",
       "      <td>7500</td>\n",
       "    </tr>\n",
       "    <tr>\n",
       "      <th>unique</th>\n",
       "      <td>3</td>\n",
       "      <td>2</td>\n",
       "    </tr>\n",
       "    <tr>\n",
       "      <th>top</th>\n",
       "      <td>France</td>\n",
       "      <td>Male</td>\n",
       "    </tr>\n",
       "    <tr>\n",
       "      <th>freq</th>\n",
       "      <td>3735</td>\n",
       "      <td>4109</td>\n",
       "    </tr>\n",
       "  </tbody>\n",
       "</table>\n",
       "</div>"
      ],
      "text/plain": [
       "       Geography Gender\n",
       "count       7500   7500\n",
       "unique         3      2\n",
       "top       France   Male\n",
       "freq        3735   4109"
      ]
     },
     "execution_count": 7,
     "metadata": {},
     "output_type": "execute_result"
    }
   ],
   "source": [
    "train_df.describe(include='O')"
   ]
  },
  {
   "cell_type": "markdown",
   "metadata": {},
   "source": [
    "We need to encode these two attributes later"
   ]
  },
  {
   "cell_type": "code",
   "execution_count": 8,
   "metadata": {},
   "outputs": [],
   "source": [
    "cat_fea = ['Geography','Gender']"
   ]
  },
  {
   "cell_type": "code",
   "execution_count": 9,
   "metadata": {},
   "outputs": [
    {
     "data": {
      "text/plain": [
       "0    0.792133\n",
       "1    0.207867\n",
       "Name: Exited, dtype: float64"
      ]
     },
     "execution_count": 9,
     "metadata": {},
     "output_type": "execute_result"
    }
   ],
   "source": [
    "train_df['Exited'].value_counts(normalize=True)"
   ]
  },
  {
   "cell_type": "markdown",
   "metadata": {},
   "source": [
    "From this normalized response distribution we can see that the dataset is imbalanced."
   ]
  },
  {
   "cell_type": "markdown",
   "metadata": {},
   "source": [
    "## Data Preprocessing"
   ]
  },
  {
   "cell_type": "code",
   "execution_count": 10,
   "metadata": {},
   "outputs": [],
   "source": [
    "all_df = pd.concat([train_df,test_df])\n",
    "all_df = pd.concat([all_df,pd.get_dummies(all_df['Gender'], drop_first=True)],axis=1)\n",
    "all_df = pd.concat([all_df,pd.get_dummies(all_df['Geography'], drop_first=False)],axis=1)"
   ]
  },
  {
   "cell_type": "code",
   "execution_count": 11,
   "metadata": {},
   "outputs": [],
   "source": [
    "all_df.drop(cat_fea, axis=1, inplace=True)"
   ]
  },
  {
   "cell_type": "code",
   "execution_count": 12,
   "metadata": {},
   "outputs": [],
   "source": [
    "train = all_df[all_df['is_train']==1].drop(['is_train'], axis=1)\n",
    "test = all_df[all_df['is_train']==0].drop(['is_train','Exited'], axis=1)"
   ]
  },
  {
   "cell_type": "code",
   "execution_count": 13,
   "metadata": {},
   "outputs": [
    {
     "data": {
      "text/html": [
       "<div>\n",
       "<style scoped>\n",
       "    .dataframe tbody tr th:only-of-type {\n",
       "        vertical-align: middle;\n",
       "    }\n",
       "\n",
       "    .dataframe tbody tr th {\n",
       "        vertical-align: top;\n",
       "    }\n",
       "\n",
       "    .dataframe thead th {\n",
       "        text-align: right;\n",
       "    }\n",
       "</style>\n",
       "<table border=\"1\" class=\"dataframe\">\n",
       "  <thead>\n",
       "    <tr style=\"text-align: right;\">\n",
       "      <th></th>\n",
       "      <th>CreditScore</th>\n",
       "      <th>Age</th>\n",
       "      <th>Tenure</th>\n",
       "      <th>Balance</th>\n",
       "      <th>NumOfProducts</th>\n",
       "      <th>HasCrCard</th>\n",
       "      <th>IsActiveMember</th>\n",
       "      <th>EstimatedSalary</th>\n",
       "      <th>Exited</th>\n",
       "      <th>Male</th>\n",
       "      <th>France</th>\n",
       "      <th>Germany</th>\n",
       "      <th>Spain</th>\n",
       "    </tr>\n",
       "    <tr>\n",
       "      <th>RowNumber</th>\n",
       "      <th></th>\n",
       "      <th></th>\n",
       "      <th></th>\n",
       "      <th></th>\n",
       "      <th></th>\n",
       "      <th></th>\n",
       "      <th></th>\n",
       "      <th></th>\n",
       "      <th></th>\n",
       "      <th></th>\n",
       "      <th></th>\n",
       "      <th></th>\n",
       "      <th></th>\n",
       "    </tr>\n",
       "  </thead>\n",
       "  <tbody>\n",
       "    <tr>\n",
       "      <th>0</th>\n",
       "      <td>683</td>\n",
       "      <td>38</td>\n",
       "      <td>5</td>\n",
       "      <td>127616.56</td>\n",
       "      <td>1</td>\n",
       "      <td>1</td>\n",
       "      <td>0</td>\n",
       "      <td>123846.07</td>\n",
       "      <td>0.0</td>\n",
       "      <td>0</td>\n",
       "      <td>1</td>\n",
       "      <td>0</td>\n",
       "      <td>0</td>\n",
       "    </tr>\n",
       "    <tr>\n",
       "      <th>1</th>\n",
       "      <td>619</td>\n",
       "      <td>28</td>\n",
       "      <td>3</td>\n",
       "      <td>0.00</td>\n",
       "      <td>2</td>\n",
       "      <td>1</td>\n",
       "      <td>0</td>\n",
       "      <td>53394.12</td>\n",
       "      <td>0.0</td>\n",
       "      <td>0</td>\n",
       "      <td>1</td>\n",
       "      <td>0</td>\n",
       "      <td>0</td>\n",
       "    </tr>\n",
       "    <tr>\n",
       "      <th>2</th>\n",
       "      <td>718</td>\n",
       "      <td>34</td>\n",
       "      <td>5</td>\n",
       "      <td>113922.44</td>\n",
       "      <td>2</td>\n",
       "      <td>1</td>\n",
       "      <td>0</td>\n",
       "      <td>30772.22</td>\n",
       "      <td>0.0</td>\n",
       "      <td>1</td>\n",
       "      <td>0</td>\n",
       "      <td>0</td>\n",
       "      <td>1</td>\n",
       "    </tr>\n",
       "    <tr>\n",
       "      <th>3</th>\n",
       "      <td>616</td>\n",
       "      <td>45</td>\n",
       "      <td>3</td>\n",
       "      <td>143129.41</td>\n",
       "      <td>2</td>\n",
       "      <td>0</td>\n",
       "      <td>1</td>\n",
       "      <td>64327.26</td>\n",
       "      <td>0.0</td>\n",
       "      <td>1</td>\n",
       "      <td>0</td>\n",
       "      <td>1</td>\n",
       "      <td>0</td>\n",
       "    </tr>\n",
       "    <tr>\n",
       "      <th>4</th>\n",
       "      <td>787</td>\n",
       "      <td>40</td>\n",
       "      <td>6</td>\n",
       "      <td>0.00</td>\n",
       "      <td>2</td>\n",
       "      <td>1</td>\n",
       "      <td>1</td>\n",
       "      <td>84151.98</td>\n",
       "      <td>0.0</td>\n",
       "      <td>0</td>\n",
       "      <td>1</td>\n",
       "      <td>0</td>\n",
       "      <td>0</td>\n",
       "    </tr>\n",
       "  </tbody>\n",
       "</table>\n",
       "</div>"
      ],
      "text/plain": [
       "           CreditScore  Age  Tenure    Balance  NumOfProducts  HasCrCard  \\\n",
       "RowNumber                                                                  \n",
       "0                  683   38       5  127616.56              1          1   \n",
       "1                  619   28       3       0.00              2          1   \n",
       "2                  718   34       5  113922.44              2          1   \n",
       "3                  616   45       3  143129.41              2          0   \n",
       "4                  787   40       6       0.00              2          1   \n",
       "\n",
       "           IsActiveMember  EstimatedSalary  Exited  Male  France  Germany  \\\n",
       "RowNumber                                                                   \n",
       "0                       0        123846.07     0.0     0       1        0   \n",
       "1                       0         53394.12     0.0     0       1        0   \n",
       "2                       0         30772.22     0.0     1       0        0   \n",
       "3                       1         64327.26     0.0     1       0        1   \n",
       "4                       1         84151.98     0.0     0       1        0   \n",
       "\n",
       "           Spain  \n",
       "RowNumber         \n",
       "0              0  \n",
       "1              0  \n",
       "2              1  \n",
       "3              0  \n",
       "4              0  "
      ]
     },
     "execution_count": 13,
     "metadata": {},
     "output_type": "execute_result"
    }
   ],
   "source": [
    "train.head()"
   ]
  },
  {
   "cell_type": "code",
   "execution_count": 14,
   "metadata": {},
   "outputs": [],
   "source": [
    "from sklearn.model_selection import GridSearchCV"
   ]
  },
  {
   "cell_type": "markdown",
   "metadata": {},
   "source": [
    "Since our dataset is small, we use cross validation to test and tune the model"
   ]
  },
  {
   "cell_type": "markdown",
   "metadata": {},
   "source": [
    "Next, we compare a very basic model--**Decision Tree** and a gradient boosting ensemble method--**XGBoost** which is also tree based model"
   ]
  },
  {
   "cell_type": "code",
   "execution_count": 15,
   "metadata": {},
   "outputs": [],
   "source": [
    "df_submission = pd.read_csv('samplesubmission.csv')\n",
    "    \n",
    "def testing(model, X_train, Y_train, X_test, model_name, drop_cat=None):\n",
    "    if drop_cat != None:\n",
    "        X_train = X_train.drop(drop_cat, axis=1)\n",
    "        X_test = X_test.drop(drop_cat, axis=1)\n",
    "\n",
    "    model.fit(X_train, Y_train)\n",
    "    pred = model.predict(X_test)\n",
    "    df_submission['Exited'] = pred.astype(int)\n",
    "    df_submission.to_csv('submission_2_' + model_name + '.csv', index = False)"
   ]
  },
  {
   "cell_type": "markdown",
   "metadata": {},
   "source": [
    "## Model Training: Decision Tree"
   ]
  },
  {
   "cell_type": "code",
   "execution_count": 54,
   "metadata": {},
   "outputs": [
    {
     "data": {
      "text/plain": [
       "GridSearchCV(cv=5,\n",
       "             estimator=DecisionTreeClassifier(class_weight='balanced',\n",
       "                                              random_state=1),\n",
       "             n_jobs=-1,\n",
       "             param_grid={'max_depth': [6, 8, 10, 12],\n",
       "                         'min_samples_leaf': [1, 3, 5],\n",
       "                         'min_samples_split': [2, 4, 6]},\n",
       "             scoring='f1')"
      ]
     },
     "execution_count": 54,
     "metadata": {},
     "output_type": "execute_result"
    }
   ],
   "source": [
    "from sklearn import tree\n",
    "\n",
    "grid = GridSearchCV (\n",
    "estimator = tree.DecisionTreeClassifier(criterion=\"gini\", class_weight=\"balanced\", random_state=1),\n",
    "param_grid = {'max_depth':[6,8,10,12], 'min_samples_split':[2,4,6], 'min_samples_leaf':[1,3,5]},\n",
    "    n_jobs=-1, cv=5, scoring='f1')\n",
    "\n",
    "grid.fit(train.drop('Exited',axis=1), train.Exited)"
   ]
  },
  {
   "cell_type": "code",
   "execution_count": 55,
   "metadata": {},
   "outputs": [
    {
     "name": "stdout",
     "output_type": "stream",
     "text": [
      "Best: 0.578536\n",
      "max_depth : 6.000000\n",
      "min_samples_leaf : 1.000000\n",
      "min_samples_split : 6.000000\n"
     ]
    }
   ],
   "source": [
    "print(\"Best: %f\" %(grid.best_score_))\n",
    "for key,value in grid.best_params_.items():\n",
    "    print(key+\" : %f\" %(value))"
   ]
  },
  {
   "cell_type": "code",
   "execution_count": 56,
   "metadata": {},
   "outputs": [
    {
     "data": {
      "text/plain": [
       "GridSearchCV(cv=5,\n",
       "             estimator=DecisionTreeClassifier(class_weight='balanced',\n",
       "                                              random_state=1),\n",
       "             n_jobs=-1,\n",
       "             param_grid={'max_depth': [5, 6, 7], 'min_samples_leaf': [1, 2],\n",
       "                         'min_samples_split': [5, 6, 7]},\n",
       "             scoring='f1')"
      ]
     },
     "execution_count": 56,
     "metadata": {},
     "output_type": "execute_result"
    }
   ],
   "source": [
    "grid = GridSearchCV (\n",
    "estimator = tree.DecisionTreeClassifier(criterion=\"gini\", class_weight=\"balanced\", random_state=1),\n",
    "param_grid = {'max_depth':[5,6,7], 'min_samples_split':[5,6,7], 'min_samples_leaf':[1,2]},\n",
    "    n_jobs=-1, cv=5, scoring='f1')\n",
    "\n",
    "grid.fit(train.drop('Exited',axis=1), train.Exited)"
   ]
  },
  {
   "cell_type": "code",
   "execution_count": 57,
   "metadata": {},
   "outputs": [
    {
     "name": "stdout",
     "output_type": "stream",
     "text": [
      "Best: 0.578536\n",
      "max_depth : 6.000000\n",
      "min_samples_leaf : 1.000000\n",
      "min_samples_split : 6.000000\n"
     ]
    }
   ],
   "source": [
    "print(\"Best: %f\" %(grid.best_score_))\n",
    "for key,value in grid.best_params_.items():\n",
    "    print(key+\" : %f\" %(value))"
   ]
  },
  {
   "cell_type": "code",
   "execution_count": 59,
   "metadata": {},
   "outputs": [],
   "source": [
    "dt = tree.DecisionTreeClassifier(criterion=\"gini\", class_weight=\"balanced\", max_depth=6, min_samples_leaf=1, min_samples_split=6, random_state=1)\n",
    "testing(dt, train.drop('Exited',axis=1), train.Exited, test, 'tree')"
   ]
  },
  {
   "cell_type": "markdown",
   "metadata": {},
   "source": [
    "## Model Training: XGBoost"
   ]
  },
  {
   "cell_type": "code",
   "execution_count": 60,
   "metadata": {},
   "outputs": [],
   "source": [
    "from xgboost.sklearn import XGBClassifier\n",
    "import xgboost as xgb"
   ]
  },
  {
   "cell_type": "markdown",
   "metadata": {},
   "source": [
    "First, we check the optimal number of trees using cv function of xgboost"
   ]
  },
  {
   "cell_type": "code",
   "execution_count": 61,
   "metadata": {},
   "outputs": [],
   "source": [
    "target = 'Exited'\n",
    "\n",
    "def modelfit(alg, dtrain, predictors, cv_folds=5, early_stopping_rounds=50):\n",
    "        xgb_param = alg.get_xgb_params()\n",
    "        xgtrain = xgb.DMatrix(dtrain[predictors].values, label=dtrain[target].values)\n",
    "        xgb.cv(xgb_param, xgtrain, num_boost_round=alg.get_params()['n_estimators'], nfold=cv_folds,\n",
    "            metrics='auc', early_stopping_rounds=early_stopping_rounds, verbose_eval=True)\n",
    "        \n",
    "\n",
    "def grid_tuning(sta, var):\n",
    "    grid = GridSearchCV (\n",
    "        estimator = XGBClassifier(**sta),\n",
    "        param_grid = var,\n",
    "        n_jobs=-1, cv=5, scoring='f1')\n",
    "    grid.fit(train.drop('Exited',axis=1), train.Exited)\n",
    "    print(\"Best: %f\" %(grid.best_score_))\n",
    "    for key,value in grid.best_params_.items():\n",
    "        print(key+\" : %f\" %(value))"
   ]
  },
  {
   "cell_type": "code",
   "execution_count": 62,
   "metadata": {
    "scrolled": true
   },
   "outputs": [
    {
     "name": "stdout",
     "output_type": "stream",
     "text": [
      "[0]\ttrain-auc:0.847234+0.00423116\ttest-auc:0.836662+0.00680219\n",
      "[1]\ttrain-auc:0.853176+0.00486974\ttest-auc:0.842808+0.00747938\n",
      "[2]\ttrain-auc:0.860545+0.00429672\ttest-auc:0.847768+0.00639288\n",
      "[3]\ttrain-auc:0.863788+0.00494137\ttest-auc:0.851627+0.00731558\n",
      "[4]\ttrain-auc:0.867534+0.00412619\ttest-auc:0.855928+0.00578762\n",
      "[5]\ttrain-auc:0.870795+0.00419033\ttest-auc:0.857571+0.00768679\n",
      "[6]\ttrain-auc:0.872028+0.00304867\ttest-auc:0.857461+0.00662626\n",
      "[7]\ttrain-auc:0.875303+0.00373494\ttest-auc:0.859877+0.00719701\n",
      "[8]\ttrain-auc:0.877431+0.00303124\ttest-auc:0.860898+0.00683028\n",
      "[9]\ttrain-auc:0.879211+0.00328173\ttest-auc:0.861922+0.00656606\n",
      "[10]\ttrain-auc:0.881168+0.00303745\ttest-auc:0.863439+0.00617217\n",
      "[11]\ttrain-auc:0.882464+0.00240792\ttest-auc:0.863896+0.0060595\n",
      "[12]\ttrain-auc:0.88274+0.00242652\ttest-auc:0.863997+0.00562744\n",
      "[13]\ttrain-auc:0.883449+0.00256611\ttest-auc:0.864334+0.00581241\n",
      "[14]\ttrain-auc:0.884924+0.00285812\ttest-auc:0.86513+0.00566131\n",
      "[15]\ttrain-auc:0.886218+0.00258294\ttest-auc:0.866187+0.0052614\n",
      "[16]\ttrain-auc:0.886721+0.00193077\ttest-auc:0.866225+0.00512512\n",
      "[17]\ttrain-auc:0.887515+0.0015849\ttest-auc:0.866241+0.00456551\n",
      "[18]\ttrain-auc:0.888105+0.00192684\ttest-auc:0.865993+0.00491603\n",
      "[19]\ttrain-auc:0.88881+0.00181272\ttest-auc:0.86588+0.00504831\n",
      "[20]\ttrain-auc:0.889488+0.00174627\ttest-auc:0.866505+0.0050617\n",
      "[21]\ttrain-auc:0.891234+0.0013402\ttest-auc:0.866228+0.00439839\n",
      "[22]\ttrain-auc:0.892215+0.000914913\ttest-auc:0.866279+0.00406968\n",
      "[23]\ttrain-auc:0.893173+0.00103578\ttest-auc:0.866053+0.00417137\n",
      "[24]\ttrain-auc:0.893906+0.000890275\ttest-auc:0.866122+0.00359897\n",
      "[25]\ttrain-auc:0.894509+0.000506835\ttest-auc:0.865973+0.00375839\n",
      "[26]\ttrain-auc:0.895401+0.000574772\ttest-auc:0.865896+0.00389604\n",
      "[27]\ttrain-auc:0.896246+0.000441964\ttest-auc:0.866103+0.00385355\n",
      "[28]\ttrain-auc:0.896978+0.000895696\ttest-auc:0.865958+0.00347008\n",
      "[29]\ttrain-auc:0.897653+0.000569203\ttest-auc:0.865939+0.0036893\n",
      "[30]\ttrain-auc:0.898501+0.000635061\ttest-auc:0.866216+0.00329543\n",
      "[31]\ttrain-auc:0.899292+0.00055804\ttest-auc:0.866154+0.00325749\n",
      "[32]\ttrain-auc:0.89991+0.000807979\ttest-auc:0.86625+0.00322516\n",
      "[33]\ttrain-auc:0.900669+0.000532385\ttest-auc:0.866081+0.00315346\n",
      "[34]\ttrain-auc:0.901309+0.000849825\ttest-auc:0.866037+0.0030819\n",
      "[35]\ttrain-auc:0.902116+0.00120782\ttest-auc:0.86592+0.00304566\n",
      "[36]\ttrain-auc:0.90282+0.00146714\ttest-auc:0.865648+0.0031205\n",
      "[37]\ttrain-auc:0.903601+0.00111601\ttest-auc:0.865459+0.00288397\n",
      "[38]\ttrain-auc:0.904268+0.00109122\ttest-auc:0.865852+0.00300954\n",
      "[39]\ttrain-auc:0.904942+0.00095237\ttest-auc:0.865836+0.0031961\n",
      "[40]\ttrain-auc:0.905821+0.00112346\ttest-auc:0.865863+0.00344044\n",
      "[41]\ttrain-auc:0.906348+0.00126416\ttest-auc:0.865702+0.0032705\n",
      "[42]\ttrain-auc:0.906839+0.00134538\ttest-auc:0.865631+0.00322995\n",
      "[43]\ttrain-auc:0.907586+0.00132215\ttest-auc:0.866099+0.00390205\n",
      "[44]\ttrain-auc:0.907916+0.00132477\ttest-auc:0.866275+0.00400401\n",
      "[45]\ttrain-auc:0.908404+0.00128278\ttest-auc:0.866367+0.00386331\n",
      "[46]\ttrain-auc:0.909104+0.00115153\ttest-auc:0.866268+0.00393419\n",
      "[47]\ttrain-auc:0.909665+0.001032\ttest-auc:0.866258+0.00387083\n",
      "[48]\ttrain-auc:0.910226+0.000931429\ttest-auc:0.866409+0.00418196\n",
      "[49]\ttrain-auc:0.910679+0.00119994\ttest-auc:0.866485+0.00435419\n",
      "[50]\ttrain-auc:0.911351+0.00150416\ttest-auc:0.866707+0.00432097\n",
      "[51]\ttrain-auc:0.912398+0.00153957\ttest-auc:0.866647+0.00436247\n",
      "[52]\ttrain-auc:0.913201+0.00180993\ttest-auc:0.866588+0.00431281\n",
      "[53]\ttrain-auc:0.913999+0.00174671\ttest-auc:0.866534+0.00412443\n",
      "[54]\ttrain-auc:0.914367+0.00189119\ttest-auc:0.866546+0.00376505\n",
      "[55]\ttrain-auc:0.915068+0.00162787\ttest-auc:0.866537+0.00388239\n",
      "[56]\ttrain-auc:0.915933+0.00177921\ttest-auc:0.866553+0.00378389\n",
      "[57]\ttrain-auc:0.916347+0.00176552\ttest-auc:0.866545+0.00402458\n",
      "[58]\ttrain-auc:0.916888+0.00197753\ttest-auc:0.866583+0.00416869\n",
      "[59]\ttrain-auc:0.917194+0.00181991\ttest-auc:0.866585+0.00430095\n",
      "[60]\ttrain-auc:0.917735+0.00171741\ttest-auc:0.866727+0.00420348\n",
      "[61]\ttrain-auc:0.918225+0.00173868\ttest-auc:0.866916+0.00428048\n",
      "[62]\ttrain-auc:0.91888+0.00210368\ttest-auc:0.866884+0.00420355\n",
      "[63]\ttrain-auc:0.919537+0.00177496\ttest-auc:0.866699+0.00404362\n",
      "[64]\ttrain-auc:0.920026+0.00180063\ttest-auc:0.866573+0.00406709\n",
      "[65]\ttrain-auc:0.920487+0.00196327\ttest-auc:0.866523+0.00400369\n",
      "[66]\ttrain-auc:0.920984+0.00166379\ttest-auc:0.866813+0.00410592\n",
      "[67]\ttrain-auc:0.921387+0.00177418\ttest-auc:0.86691+0.00432362\n",
      "[68]\ttrain-auc:0.921888+0.0017621\ttest-auc:0.867046+0.00416763\n",
      "[69]\ttrain-auc:0.922451+0.00181071\ttest-auc:0.86708+0.00423852\n",
      "[70]\ttrain-auc:0.922956+0.00165212\ttest-auc:0.867257+0.00422639\n",
      "[71]\ttrain-auc:0.923636+0.00155969\ttest-auc:0.86696+0.00402166\n",
      "[72]\ttrain-auc:0.924256+0.00163959\ttest-auc:0.866848+0.0038859\n",
      "[73]\ttrain-auc:0.924617+0.00154537\ttest-auc:0.866746+0.0038747\n",
      "[74]\ttrain-auc:0.925066+0.00173139\ttest-auc:0.866906+0.00373858\n",
      "[75]\ttrain-auc:0.925607+0.00182556\ttest-auc:0.86687+0.00372749\n",
      "[76]\ttrain-auc:0.925955+0.00183168\ttest-auc:0.866775+0.00367967\n",
      "[77]\ttrain-auc:0.926406+0.00179754\ttest-auc:0.86678+0.00375445\n",
      "[78]\ttrain-auc:0.926876+0.00165224\ttest-auc:0.86681+0.00380901\n",
      "[79]\ttrain-auc:0.927315+0.00154289\ttest-auc:0.866815+0.00385082\n",
      "[80]\ttrain-auc:0.928077+0.0016897\ttest-auc:0.866657+0.00336247\n",
      "[81]\ttrain-auc:0.928856+0.00153527\ttest-auc:0.866417+0.00378829\n",
      "[82]\ttrain-auc:0.929356+0.001564\ttest-auc:0.866567+0.00380607\n",
      "[83]\ttrain-auc:0.929983+0.00154267\ttest-auc:0.86647+0.00380544\n",
      "[84]\ttrain-auc:0.930462+0.00166596\ttest-auc:0.866326+0.00375047\n",
      "[85]\ttrain-auc:0.931103+0.00149685\ttest-auc:0.86625+0.00373946\n",
      "[86]\ttrain-auc:0.931626+0.00118071\ttest-auc:0.866189+0.00396504\n",
      "[87]\ttrain-auc:0.932218+0.00111389\ttest-auc:0.866074+0.00377152\n",
      "[88]\ttrain-auc:0.932546+0.00100299\ttest-auc:0.866246+0.0038065\n",
      "[89]\ttrain-auc:0.933041+0.00109196\ttest-auc:0.866093+0.00391065\n",
      "[90]\ttrain-auc:0.933639+0.00101154\ttest-auc:0.865995+0.00377228\n",
      "[91]\ttrain-auc:0.934039+0.00105767\ttest-auc:0.865871+0.00372136\n",
      "[92]\ttrain-auc:0.934603+0.00101868\ttest-auc:0.865646+0.00362084\n",
      "[93]\ttrain-auc:0.935038+0.000907374\ttest-auc:0.865522+0.00356617\n",
      "[94]\ttrain-auc:0.93564+0.000901076\ttest-auc:0.865316+0.00366356\n",
      "[95]\ttrain-auc:0.935974+0.00106998\ttest-auc:0.865179+0.00388652\n",
      "[96]\ttrain-auc:0.93646+0.00109627\ttest-auc:0.865077+0.00385419\n",
      "[97]\ttrain-auc:0.936867+0.00118283\ttest-auc:0.864908+0.00377602\n",
      "[98]\ttrain-auc:0.937492+0.00121715\ttest-auc:0.864816+0.00375382\n",
      "[99]\ttrain-auc:0.937754+0.00114978\ttest-auc:0.864736+0.00371457\n",
      "[100]\ttrain-auc:0.938232+0.00118994\ttest-auc:0.864568+0.00384184\n",
      "[101]\ttrain-auc:0.938802+0.000991292\ttest-auc:0.864494+0.00371459\n",
      "[102]\ttrain-auc:0.939213+0.00100222\ttest-auc:0.864404+0.00381197\n",
      "[103]\ttrain-auc:0.939535+0.000900391\ttest-auc:0.864396+0.00357705\n",
      "[104]\ttrain-auc:0.939888+0.00093713\ttest-auc:0.864573+0.00361999\n",
      "[105]\ttrain-auc:0.940336+0.00092661\ttest-auc:0.864384+0.00363769\n",
      "[106]\ttrain-auc:0.940697+0.00112895\ttest-auc:0.864263+0.00349687\n",
      "[107]\ttrain-auc:0.941152+0.00100529\ttest-auc:0.86414+0.00361684\n",
      "[108]\ttrain-auc:0.941664+0.000906108\ttest-auc:0.8639+0.00382736\n",
      "[109]\ttrain-auc:0.941984+0.000974293\ttest-auc:0.86403+0.00387045\n",
      "[110]\ttrain-auc:0.942488+0.000977922\ttest-auc:0.864032+0.00387017\n",
      "[111]\ttrain-auc:0.942915+0.00103873\ttest-auc:0.863793+0.00400213\n",
      "[112]\ttrain-auc:0.94322+0.00109115\ttest-auc:0.863581+0.00388811\n",
      "[113]\ttrain-auc:0.943583+0.00115941\ttest-auc:0.863439+0.00393188\n",
      "[114]\ttrain-auc:0.944105+0.00109291\ttest-auc:0.863254+0.00371974\n",
      "[115]\ttrain-auc:0.944403+0.000991514\ttest-auc:0.863149+0.00376011\n",
      "[116]\ttrain-auc:0.944754+0.000911861\ttest-auc:0.863048+0.0037701\n",
      "[117]\ttrain-auc:0.945213+0.00104989\ttest-auc:0.863086+0.00380679\n",
      "[118]\ttrain-auc:0.94559+0.00107838\ttest-auc:0.862846+0.00378063\n",
      "[119]\ttrain-auc:0.946026+0.00112294\ttest-auc:0.862836+0.00376948\n"
     ]
    }
   ],
   "source": [
    "predictors = test.columns \n",
    "\n",
    "xgb1 = XGBClassifier(\n",
    " learning_rate=0.1,\n",
    " n_estimators=1000,\n",
    " max_depth=5,\n",
    " min_child_weight=1,\n",
    " gamma=0,\n",
    " subsample=0.8,\n",
    " colsample_bytree=0.8,\n",
    " objective= 'binary:logistic',\n",
    " scale_pos_weight=1,\n",
    " random_state=20)\n",
    "\n",
    "modelfit(xgb1, train, predictors)"
   ]
  },
  {
   "cell_type": "markdown",
   "metadata": {},
   "source": [
    "Next, we check *max_depth*: depth of a tree and *min_child_weight*: similar to min_child_leaf"
   ]
  },
  {
   "cell_type": "code",
   "execution_count": 63,
   "metadata": {},
   "outputs": [
    {
     "name": "stdout",
     "output_type": "stream",
     "text": [
      "Best: 0.588710\n",
      "max_depth : 7.000000\n",
      "min_child_weight : 1.000000\n"
     ]
    }
   ],
   "source": [
    "variable_params = {'max_depth':range(3,10,2), 'min_child_weight':range(1,6,2)}\n",
    "static_params = {'objective':'binary:logistic', 'learning_rate':0.1, 'n_estimators':119, 'gamma':0, 'subsample':0.8, 'colsample_bytree':0.8, 'scale_pos_weight':1, 'random_state':20}\n",
    "grid_tuning(static_params, variable_params)"
   ]
  },
  {
   "cell_type": "code",
   "execution_count": 64,
   "metadata": {},
   "outputs": [
    {
     "name": "stdout",
     "output_type": "stream",
     "text": [
      "Best: 0.588710\n",
      "max_depth : 7.000000\n",
      "min_child_weight : 1.000000\n"
     ]
    }
   ],
   "source": [
    "variable_params = {'max_depth':[6,7,8], 'min_child_weight':[1,2]}\n",
    "grid_tuning(static_params, variable_params)"
   ]
  },
  {
   "cell_type": "markdown",
   "metadata": {},
   "source": [
    "Update n_estimators with our new parameters"
   ]
  },
  {
   "cell_type": "code",
   "execution_count": 65,
   "metadata": {
    "scrolled": true
   },
   "outputs": [
    {
     "name": "stdout",
     "output_type": "stream",
     "text": [
      "[0]\ttrain-auc:0.868904+0.00295162\ttest-auc:0.842754+0.00481612\n",
      "[1]\ttrain-auc:0.876683+0.00483307\ttest-auc:0.848634+0.0103694\n",
      "[2]\ttrain-auc:0.885724+0.00302127\ttest-auc:0.853018+0.00823052\n",
      "[3]\ttrain-auc:0.888694+0.00305368\ttest-auc:0.85545+0.00854117\n",
      "[4]\ttrain-auc:0.892293+0.00290103\ttest-auc:0.857688+0.00771907\n",
      "[5]\ttrain-auc:0.895581+0.00192945\ttest-auc:0.85919+0.00829884\n",
      "[6]\ttrain-auc:0.897472+0.00102625\ttest-auc:0.85899+0.00789364\n",
      "[7]\ttrain-auc:0.901719+0.00181447\ttest-auc:0.861209+0.0082306\n",
      "[8]\ttrain-auc:0.904614+0.0023968\ttest-auc:0.861585+0.00788253\n",
      "[9]\ttrain-auc:0.908208+0.00271857\ttest-auc:0.861403+0.00711999\n",
      "[10]\ttrain-auc:0.910284+0.0025468\ttest-auc:0.86244+0.00663055\n",
      "[11]\ttrain-auc:0.911819+0.00171067\ttest-auc:0.862142+0.00653955\n",
      "[12]\ttrain-auc:0.913279+0.00146025\ttest-auc:0.86267+0.00603324\n",
      "[13]\ttrain-auc:0.914945+0.00177506\ttest-auc:0.861994+0.0059501\n",
      "[14]\ttrain-auc:0.916842+0.00203339\ttest-auc:0.863094+0.00547334\n",
      "[15]\ttrain-auc:0.918323+0.00194882\ttest-auc:0.864339+0.00556049\n",
      "[16]\ttrain-auc:0.919682+0.00175709\ttest-auc:0.863634+0.00553972\n",
      "[17]\ttrain-auc:0.920956+0.00133553\ttest-auc:0.863798+0.00533162\n",
      "[18]\ttrain-auc:0.922292+0.00127986\ttest-auc:0.864072+0.0057138\n",
      "[19]\ttrain-auc:0.923723+0.00164863\ttest-auc:0.864048+0.00564345\n",
      "[20]\ttrain-auc:0.925178+0.00141608\ttest-auc:0.864505+0.00523209\n",
      "[21]\ttrain-auc:0.927358+0.00115578\ttest-auc:0.864493+0.00505983\n",
      "[22]\ttrain-auc:0.928943+0.000973173\ttest-auc:0.864661+0.00481484\n",
      "[23]\ttrain-auc:0.930584+0.000885864\ttest-auc:0.864975+0.00440562\n",
      "[24]\ttrain-auc:0.931717+0.000765062\ttest-auc:0.864698+0.0044591\n",
      "[25]\ttrain-auc:0.932661+0.000895752\ttest-auc:0.864288+0.00465766\n",
      "[26]\ttrain-auc:0.934324+0.00107816\ttest-auc:0.864545+0.00454436\n",
      "[27]\ttrain-auc:0.935201+0.00131692\ttest-auc:0.864633+0.00429136\n",
      "[28]\ttrain-auc:0.93633+0.0016691\ttest-auc:0.86477+0.00428463\n",
      "[29]\ttrain-auc:0.9375+0.00177236\ttest-auc:0.864949+0.00395501\n",
      "[30]\ttrain-auc:0.93865+0.00160466\ttest-auc:0.865264+0.00397892\n",
      "[31]\ttrain-auc:0.939842+0.00145174\ttest-auc:0.865452+0.00390321\n",
      "[32]\ttrain-auc:0.94092+0.00142745\ttest-auc:0.865472+0.00406256\n",
      "[33]\ttrain-auc:0.94196+0.000989503\ttest-auc:0.865439+0.00459631\n",
      "[34]\ttrain-auc:0.942932+0.00148612\ttest-auc:0.865457+0.00489626\n",
      "[35]\ttrain-auc:0.944072+0.00156406\ttest-auc:0.865135+0.00488195\n",
      "[36]\ttrain-auc:0.945216+0.0017986\ttest-auc:0.864947+0.00478794\n",
      "[37]\ttrain-auc:0.945993+0.00183766\ttest-auc:0.864783+0.00477769\n",
      "[38]\ttrain-auc:0.947135+0.00166071\ttest-auc:0.864815+0.00514161\n",
      "[39]\ttrain-auc:0.94802+0.00149798\ttest-auc:0.864667+0.00509044\n",
      "[40]\ttrain-auc:0.949266+0.00154117\ttest-auc:0.86484+0.00493811\n",
      "[41]\ttrain-auc:0.95015+0.00153783\ttest-auc:0.864343+0.00469016\n",
      "[42]\ttrain-auc:0.950827+0.00152742\ttest-auc:0.864327+0.00469221\n",
      "[43]\ttrain-auc:0.951721+0.00128621\ttest-auc:0.864514+0.00539526\n",
      "[44]\ttrain-auc:0.952144+0.00130774\ttest-auc:0.864526+0.00546983\n",
      "[45]\ttrain-auc:0.952707+0.00120289\ttest-auc:0.86471+0.00517312\n",
      "[46]\ttrain-auc:0.95361+0.00127967\ttest-auc:0.864918+0.00529465\n",
      "[47]\ttrain-auc:0.954468+0.00118206\ttest-auc:0.864771+0.00522067\n",
      "[48]\ttrain-auc:0.955026+0.00108049\ttest-auc:0.864467+0.00514886\n",
      "[49]\ttrain-auc:0.955512+0.00118283\ttest-auc:0.86442+0.0054592\n",
      "[50]\ttrain-auc:0.956238+0.00128095\ttest-auc:0.864631+0.00543207\n",
      "[51]\ttrain-auc:0.956936+0.00157878\ttest-auc:0.864774+0.00560248\n",
      "[52]\ttrain-auc:0.957608+0.00184535\ttest-auc:0.86458+0.00532046\n",
      "[53]\ttrain-auc:0.958488+0.00178049\ttest-auc:0.864696+0.00545501\n",
      "[54]\ttrain-auc:0.958922+0.00185459\ttest-auc:0.864656+0.00530784\n",
      "[55]\ttrain-auc:0.95948+0.00160311\ttest-auc:0.864507+0.00545888\n",
      "[56]\ttrain-auc:0.960147+0.00188969\ttest-auc:0.864555+0.00512876\n",
      "[57]\ttrain-auc:0.960587+0.00184346\ttest-auc:0.86445+0.00502568\n",
      "[58]\ttrain-auc:0.961191+0.00198738\ttest-auc:0.8642+0.00489698\n",
      "[59]\ttrain-auc:0.961718+0.00207008\ttest-auc:0.863905+0.00498546\n",
      "[60]\ttrain-auc:0.962385+0.00212521\ttest-auc:0.863703+0.00481368\n",
      "[61]\ttrain-auc:0.962751+0.0023386\ttest-auc:0.863651+0.00478737\n",
      "[62]\ttrain-auc:0.963334+0.00268703\ttest-auc:0.863724+0.00472789\n",
      "[63]\ttrain-auc:0.964089+0.00222833\ttest-auc:0.86359+0.00470276\n",
      "[64]\ttrain-auc:0.964601+0.00214149\ttest-auc:0.863731+0.00481403\n",
      "[65]\ttrain-auc:0.965079+0.00219844\ttest-auc:0.863591+0.0047792\n",
      "[66]\ttrain-auc:0.965708+0.00212889\ttest-auc:0.863423+0.00472064\n",
      "[67]\ttrain-auc:0.966111+0.00200705\ttest-auc:0.863783+0.00470776\n",
      "[68]\ttrain-auc:0.966558+0.00210433\ttest-auc:0.863482+0.00448687\n",
      "[69]\ttrain-auc:0.967104+0.00199938\ttest-auc:0.863382+0.00453411\n",
      "[70]\ttrain-auc:0.967511+0.0018791\ttest-auc:0.863346+0.00463092\n",
      "[71]\ttrain-auc:0.968194+0.0015995\ttest-auc:0.863121+0.00453864\n",
      "[72]\ttrain-auc:0.968815+0.00169536\ttest-auc:0.8628+0.00439651\n",
      "[73]\ttrain-auc:0.969358+0.00169881\ttest-auc:0.862762+0.00430888\n",
      "[74]\ttrain-auc:0.969778+0.00180197\ttest-auc:0.862618+0.00388553\n",
      "[75]\ttrain-auc:0.970426+0.00190356\ttest-auc:0.862405+0.00412095\n",
      "[76]\ttrain-auc:0.970758+0.00182385\ttest-auc:0.862346+0.00415394\n",
      "[77]\ttrain-auc:0.97139+0.00191677\ttest-auc:0.862319+0.00392667\n",
      "[78]\ttrain-auc:0.971865+0.00180553\ttest-auc:0.862327+0.00387417\n",
      "[79]\ttrain-auc:0.972233+0.00170543\ttest-auc:0.862451+0.00409041\n",
      "[80]\ttrain-auc:0.972923+0.00189716\ttest-auc:0.862325+0.00371786\n",
      "[81]\ttrain-auc:0.973524+0.00195886\ttest-auc:0.862026+0.00395625\n"
     ]
    }
   ],
   "source": [
    "xgb2 = XGBClassifier(\n",
    " learning_rate=0.1,\n",
    " n_estimators=1000,\n",
    " max_depth=7,\n",
    " min_child_weight=1,\n",
    " gamma=0,\n",
    " subsample=0.8,\n",
    " colsample_bytree=0.8,\n",
    " objective= 'binary:logistic',\n",
    " scale_pos_weight=1,\n",
    " random_state=20)\n",
    "\n",
    "modelfit(xgb2, train, predictors)"
   ]
  },
  {
   "cell_type": "markdown",
   "metadata": {},
   "source": [
    "Next, we check *gamma*: minimum loss reduction required to make a split, *subsample*: fraction of observations for each tree and *colsample_bytree*: similar to max_features"
   ]
  },
  {
   "cell_type": "code",
   "execution_count": 66,
   "metadata": {},
   "outputs": [
    {
     "name": "stdout",
     "output_type": "stream",
     "text": [
      "Best: 0.594302\n",
      "colsample_bytree : 0.800000\n",
      "gamma : 0.000000\n",
      "subsample : 0.800000\n"
     ]
    }
   ],
   "source": [
    "variable_params = {'gamma':[0, 0.05, 0.1], 'subsample':[0.7, 0.8, 0.9], 'colsample_bytree':[0.7, 0.8, 0.9]}\n",
    "static_params = {'max_depth':7, 'min_child_weight':1, 'objective':'binary:logistic', 'learning_rate':0.1, 'n_estimators':81, 'scale_pos_weight':1, 'random_state':20}\n",
    "grid_tuning(static_params, variable_params)"
   ]
  },
  {
   "cell_type": "markdown",
   "metadata": {},
   "source": [
    "Next, we check *scale_pos_weight*: to weight the balance of +ve examples relative to -ve examples"
   ]
  },
  {
   "cell_type": "code",
   "execution_count": 68,
   "metadata": {
    "scrolled": true
   },
   "outputs": [
    {
     "name": "stdout",
     "output_type": "stream",
     "text": [
      "Best: 0.619473\n",
      "scale_pos_weight : 2.000000\n"
     ]
    }
   ],
   "source": [
    "variable_params = {'scale_pos_weight':[1,1.5,2]}\n",
    "static_params = {'colsample_bytree': 0.8, 'gamma':0, 'subsample':0.8, 'max_depth':7, 'min_child_weight':1, 'objective':'binary:logistic', 'learning_rate':0.1, 'n_estimators':81, 'random_state':20}\n",
    "grid_tuning(static_params, variable_params)"
   ]
  },
  {
   "cell_type": "markdown",
   "metadata": {},
   "source": [
    "Though scale_pos_weight > 2 gives us a higher CV score, but here I restrict scale_pos_weight to be <=2 to avoid overfitting"
   ]
  },
  {
   "cell_type": "markdown",
   "metadata": {},
   "source": [
    "Lastly, we lower the learning rate to add more trees"
   ]
  },
  {
   "cell_type": "code",
   "execution_count": 69,
   "metadata": {
    "scrolled": true
   },
   "outputs": [
    {
     "name": "stdout",
     "output_type": "stream",
     "text": [
      "[0]\ttrain-auc:0.875633+0.00183756\ttest-auc:0.842854+0.00588081\n",
      "[1]\ttrain-auc:0.883066+0.0036854\ttest-auc:0.844398+0.0092044\n",
      "[2]\ttrain-auc:0.891598+0.00353096\ttest-auc:0.849709+0.0041049\n",
      "[3]\ttrain-auc:0.894337+0.00309053\ttest-auc:0.85349+0.0045578\n",
      "[4]\ttrain-auc:0.896439+0.00212776\ttest-auc:0.854398+0.00629576\n",
      "[5]\ttrain-auc:0.898862+0.00229122\ttest-auc:0.856284+0.00782554\n",
      "[6]\ttrain-auc:0.898786+0.000823369\ttest-auc:0.857331+0.00738492\n",
      "[7]\ttrain-auc:0.901977+0.00198587\ttest-auc:0.859886+0.0077526\n",
      "[8]\ttrain-auc:0.904125+0.00194065\ttest-auc:0.860371+0.00790004\n",
      "[9]\ttrain-auc:0.906445+0.00288985\ttest-auc:0.8609+0.00812829\n",
      "[10]\ttrain-auc:0.907896+0.00187214\ttest-auc:0.862712+0.00653065\n",
      "[11]\ttrain-auc:0.907891+0.00129872\ttest-auc:0.862848+0.00639722\n",
      "[12]\ttrain-auc:0.907833+0.00136872\ttest-auc:0.862502+0.00599227\n",
      "[13]\ttrain-auc:0.908291+0.00218172\ttest-auc:0.862391+0.00638941\n",
      "[14]\ttrain-auc:0.909053+0.0029145\ttest-auc:0.863528+0.00638487\n",
      "[15]\ttrain-auc:0.909937+0.00294195\ttest-auc:0.864456+0.00642538\n",
      "[16]\ttrain-auc:0.909664+0.00295586\ttest-auc:0.864156+0.00664169\n",
      "[17]\ttrain-auc:0.910023+0.00266313\ttest-auc:0.864734+0.00623769\n",
      "[18]\ttrain-auc:0.910363+0.00284204\ttest-auc:0.865465+0.00641706\n",
      "[19]\ttrain-auc:0.910358+0.00285729\ttest-auc:0.865716+0.00639271\n",
      "[20]\ttrain-auc:0.910464+0.00240662\ttest-auc:0.865801+0.00623624\n",
      "[21]\ttrain-auc:0.911622+0.00204816\ttest-auc:0.86608+0.00599258\n",
      "[22]\ttrain-auc:0.912674+0.00184009\ttest-auc:0.866432+0.00607254\n",
      "[23]\ttrain-auc:0.913119+0.00198159\ttest-auc:0.866554+0.00573852\n",
      "[24]\ttrain-auc:0.913294+0.00185655\ttest-auc:0.866607+0.00538806\n",
      "[25]\ttrain-auc:0.913342+0.00173629\ttest-auc:0.866414+0.0051914\n",
      "[26]\ttrain-auc:0.913765+0.00134488\ttest-auc:0.866671+0.00507816\n",
      "[27]\ttrain-auc:0.913796+0.00136315\ttest-auc:0.86678+0.00522071\n",
      "[28]\ttrain-auc:0.913929+0.00185338\ttest-auc:0.866809+0.00506346\n",
      "[29]\ttrain-auc:0.914177+0.00170895\ttest-auc:0.866807+0.0049864\n",
      "[30]\ttrain-auc:0.914457+0.00137267\ttest-auc:0.866735+0.00510501\n",
      "[31]\ttrain-auc:0.914632+0.00119507\ttest-auc:0.866662+0.00503364\n",
      "[32]\ttrain-auc:0.914659+0.00109554\ttest-auc:0.866668+0.00522461\n",
      "[33]\ttrain-auc:0.914863+0.000767448\ttest-auc:0.866798+0.00544156\n",
      "[34]\ttrain-auc:0.915041+0.00098667\ttest-auc:0.866686+0.00538724\n",
      "[35]\ttrain-auc:0.915164+0.00127129\ttest-auc:0.866623+0.00543953\n",
      "[36]\ttrain-auc:0.915255+0.00130398\ttest-auc:0.866648+0.00538039\n",
      "[37]\ttrain-auc:0.91535+0.00122552\ttest-auc:0.866609+0.00510775\n",
      "[38]\ttrain-auc:0.915457+0.00123755\ttest-auc:0.866673+0.00525416\n",
      "[39]\ttrain-auc:0.91579+0.00112001\ttest-auc:0.866768+0.00533318\n",
      "[40]\ttrain-auc:0.916136+0.00130151\ttest-auc:0.866645+0.00535388\n",
      "[41]\ttrain-auc:0.916259+0.00107671\ttest-auc:0.866671+0.0052185\n",
      "[42]\ttrain-auc:0.916248+0.00105241\ttest-auc:0.866659+0.00514741\n",
      "[43]\ttrain-auc:0.91632+0.000995589\ttest-auc:0.866939+0.00530717\n",
      "[44]\ttrain-auc:0.916467+0.00109454\ttest-auc:0.86684+0.00534526\n",
      "[45]\ttrain-auc:0.916633+0.00116567\ttest-auc:0.866944+0.00520622\n",
      "[46]\ttrain-auc:0.916655+0.0010104\ttest-auc:0.866879+0.00520362\n",
      "[47]\ttrain-auc:0.916865+0.000941809\ttest-auc:0.866809+0.00527659\n",
      "[48]\ttrain-auc:0.917011+0.00105928\ttest-auc:0.866733+0.00518742\n",
      "[49]\ttrain-auc:0.917109+0.00133896\ttest-auc:0.866768+0.00515104\n",
      "[50]\ttrain-auc:0.917091+0.00135711\ttest-auc:0.866807+0.00507496\n",
      "[51]\ttrain-auc:0.917137+0.00128919\ttest-auc:0.866675+0.00513733\n",
      "[52]\ttrain-auc:0.917258+0.00131881\ttest-auc:0.866715+0.00506367\n",
      "[53]\ttrain-auc:0.917513+0.00131788\ttest-auc:0.866773+0.00504565\n",
      "[54]\ttrain-auc:0.917763+0.00119651\ttest-auc:0.866876+0.00505765\n",
      "[55]\ttrain-auc:0.917946+0.00117655\ttest-auc:0.866936+0.00510718\n",
      "[56]\ttrain-auc:0.91811+0.00114656\ttest-auc:0.867128+0.00504004\n",
      "[57]\ttrain-auc:0.918195+0.0011239\ttest-auc:0.867251+0.00497717\n",
      "[58]\ttrain-auc:0.918475+0.00109515\ttest-auc:0.867264+0.00495044\n",
      "[59]\ttrain-auc:0.918755+0.00109586\ttest-auc:0.867257+0.0051162\n",
      "[60]\ttrain-auc:0.919234+0.00110079\ttest-auc:0.867329+0.00497721\n",
      "[61]\ttrain-auc:0.919374+0.00113708\ttest-auc:0.867381+0.00511238\n",
      "[62]\ttrain-auc:0.919486+0.00127414\ttest-auc:0.867162+0.0050198\n",
      "[63]\ttrain-auc:0.919551+0.00124126\ttest-auc:0.867014+0.005138\n",
      "[64]\ttrain-auc:0.919679+0.00124389\ttest-auc:0.866996+0.0050963\n",
      "[65]\ttrain-auc:0.919873+0.00121169\ttest-auc:0.866854+0.00498139\n",
      "[66]\ttrain-auc:0.920099+0.00115414\ttest-auc:0.867033+0.0049304\n",
      "[67]\ttrain-auc:0.920135+0.00106488\ttest-auc:0.867176+0.00492418\n",
      "[68]\ttrain-auc:0.92023+0.00109446\ttest-auc:0.867145+0.00488466\n",
      "[69]\ttrain-auc:0.920445+0.00117073\ttest-auc:0.867156+0.00495852\n",
      "[70]\ttrain-auc:0.920464+0.00117998\ttest-auc:0.867164+0.00493798\n",
      "[71]\ttrain-auc:0.920699+0.00127893\ttest-auc:0.867138+0.0049535\n",
      "[72]\ttrain-auc:0.920836+0.00130285\ttest-auc:0.867122+0.00475827\n",
      "[73]\ttrain-auc:0.920882+0.00134498\ttest-auc:0.867008+0.00473352\n",
      "[74]\ttrain-auc:0.920897+0.00133614\ttest-auc:0.86703+0.00467818\n",
      "[75]\ttrain-auc:0.921078+0.00145775\ttest-auc:0.867026+0.00463616\n",
      "[76]\ttrain-auc:0.921164+0.00146976\ttest-auc:0.866912+0.00467419\n",
      "[77]\ttrain-auc:0.921327+0.00152783\ttest-auc:0.866973+0.00458291\n",
      "[78]\ttrain-auc:0.92141+0.00168656\ttest-auc:0.866949+0.00456284\n",
      "[79]\ttrain-auc:0.921486+0.00168687\ttest-auc:0.866933+0.0044464\n",
      "[80]\ttrain-auc:0.921627+0.0015681\ttest-auc:0.86677+0.00455399\n",
      "[81]\ttrain-auc:0.921901+0.00146808\ttest-auc:0.866848+0.00446748\n",
      "[82]\ttrain-auc:0.921953+0.00145117\ttest-auc:0.866916+0.00447929\n",
      "[83]\ttrain-auc:0.922063+0.001279\ttest-auc:0.86686+0.00435328\n",
      "[84]\ttrain-auc:0.922124+0.00131488\ttest-auc:0.866881+0.00442007\n",
      "[85]\ttrain-auc:0.922301+0.0012642\ttest-auc:0.866784+0.00442611\n",
      "[86]\ttrain-auc:0.922343+0.00133975\ttest-auc:0.866802+0.00443315\n",
      "[87]\ttrain-auc:0.922586+0.00128697\ttest-auc:0.866794+0.00430775\n",
      "[88]\ttrain-auc:0.922696+0.00118655\ttest-auc:0.866837+0.0042468\n",
      "[89]\ttrain-auc:0.922866+0.00113483\ttest-auc:0.866891+0.00418725\n",
      "[90]\ttrain-auc:0.92304+0.00110286\ttest-auc:0.866853+0.00421624\n",
      "[91]\ttrain-auc:0.923016+0.00108504\ttest-auc:0.866829+0.00427178\n",
      "[92]\ttrain-auc:0.923152+0.00097166\ttest-auc:0.86682+0.00418477\n",
      "[93]\ttrain-auc:0.923312+0.000912617\ttest-auc:0.86688+0.00414011\n",
      "[94]\ttrain-auc:0.923557+0.000798363\ttest-auc:0.866878+0.00423781\n",
      "[95]\ttrain-auc:0.923717+0.000919209\ttest-auc:0.866908+0.0042181\n",
      "[96]\ttrain-auc:0.923876+0.000847828\ttest-auc:0.867099+0.0042548\n",
      "[97]\ttrain-auc:0.923963+0.000812379\ttest-auc:0.867061+0.0042083\n",
      "[98]\ttrain-auc:0.924085+0.000784964\ttest-auc:0.86714+0.00424681\n",
      "[99]\ttrain-auc:0.924279+0.000895228\ttest-auc:0.86718+0.00423311\n",
      "[100]\ttrain-auc:0.924445+0.000789602\ttest-auc:0.867138+0.00412415\n",
      "[101]\ttrain-auc:0.924579+0.000788014\ttest-auc:0.867221+0.00409828\n",
      "[102]\ttrain-auc:0.92465+0.000765722\ttest-auc:0.867255+0.00413025\n",
      "[103]\ttrain-auc:0.924719+0.000787952\ttest-auc:0.86721+0.00402492\n",
      "[104]\ttrain-auc:0.924809+0.000750196\ttest-auc:0.867282+0.00400119\n",
      "[105]\ttrain-auc:0.925005+0.000815256\ttest-auc:0.867337+0.00402586\n",
      "[106]\ttrain-auc:0.925246+0.000790592\ttest-auc:0.8673+0.00407179\n",
      "[107]\ttrain-auc:0.925405+0.000901872\ttest-auc:0.867238+0.00414748\n",
      "[108]\ttrain-auc:0.925572+0.000875231\ttest-auc:0.867186+0.00416009\n",
      "[109]\ttrain-auc:0.925598+0.000856929\ttest-auc:0.867194+0.00424627\n",
      "[110]\ttrain-auc:0.925852+0.000913654\ttest-auc:0.867184+0.00422328\n"
     ]
    }
   ],
   "source": [
    "xgb3 = XGBClassifier(\n",
    " learning_rate=0.01,\n",
    " n_estimators=1000,\n",
    " max_depth=7,\n",
    " min_child_weight=1,\n",
    " gamma=0,\n",
    " subsample=0.8,\n",
    " colsample_bytree=0.8,\n",
    " objective= 'binary:logistic',\n",
    " scale_pos_weight=2,\n",
    " random_state=20)\n",
    "\n",
    "modelfit(xgb3, train, predictors)"
   ]
  },
  {
   "cell_type": "markdown",
   "metadata": {},
   "source": [
    "Final decision:"
   ]
  },
  {
   "cell_type": "code",
   "execution_count": 72,
   "metadata": {},
   "outputs": [],
   "source": [
    "xgb_model = XGBClassifier(learning_rate=0.01,\n",
    " n_estimators=110,\n",
    " max_depth=7,\n",
    " min_child_weight=1,\n",
    " gamma=0,\n",
    " subsample=0.8,\n",
    " colsample_bytree=0.8,\n",
    " objective= 'binary:logistic',\n",
    " scale_pos_weight=2,\n",
    " random_state=20)\n",
    "\n",
    "testing(xgb_model, train.drop('Exited',axis=1), train.Exited, test, 'xgb')"
   ]
  },
  {
   "cell_type": "markdown",
   "metadata": {},
   "source": [
    "By running evaluate_2, we get test f1 score<br />\n",
    "for Decision Tree: **0.5470**<br />\n",
    "for XGBoost: **0.6314**<br />\n",
    "The f1 score of XGBoost is around 8.5% higher than that of a tree!"
   ]
  }
 ],
 "metadata": {
  "kernelspec": {
   "display_name": "Python 3",
   "language": "python",
   "name": "python3"
  },
  "language_info": {
   "codemirror_mode": {
    "name": "ipython",
    "version": 3
   },
   "file_extension": ".py",
   "mimetype": "text/x-python",
   "name": "python",
   "nbconvert_exporter": "python",
   "pygments_lexer": "ipython3",
   "version": "3.7.7"
  }
 },
 "nbformat": 4,
 "nbformat_minor": 4
}
